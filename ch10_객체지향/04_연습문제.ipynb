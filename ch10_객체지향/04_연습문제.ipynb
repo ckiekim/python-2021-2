{
 "metadata": {
  "language_info": {
   "codemirror_mode": {
    "name": "ipython",
    "version": 3
   },
   "file_extension": ".py",
   "mimetype": "text/x-python",
   "name": "python",
   "nbconvert_exporter": "python",
   "pygments_lexer": "ipython3",
   "version": "3.8.5"
  },
  "orig_nbformat": 2,
  "kernelspec": {
   "name": "python385jvsc74a57bd08c1eae21719a0790335dcb83aad72b63b602cfe5cdb2bda0f60bc11d4f154e4b",
   "display_name": "Python 3.8.5 64-bit ('base': conda)"
  }
 },
 "nbformat": 4,
 "nbformat_minor": 2,
 "cells": [
  {
   "source": [
    "### U14. 합격여부 확인"
   ],
   "cell_type": "markdown",
   "metadata": {}
  },
  {
   "cell_type": "code",
   "execution_count": 8,
   "metadata": {},
   "outputs": [
    {
     "output_type": "stream",
     "name": "stdout",
     "text": [
      "잘못된 점수\n"
     ]
    }
   ],
   "source": [
    "kor, eng, math, sci = map(int, input().split())\n",
    "mean = (kor + eng + math + sci) / 4\n",
    "if kor < 0 or kor > 100 or eng < 0 or eng > 100 or math < 0 or math > 100 or sci < 0 or sci > 100 :\n",
    "    print('잘못된 점수') \n",
    "elif mean >= 80 : \n",
    "    print(\"합격\")\n",
    "else : \n",
    "    print(\"불합격\")"
   ]
  },
  {
   "cell_type": "code",
   "execution_count": 9,
   "metadata": {},
   "outputs": [
    {
     "output_type": "stream",
     "name": "stdout",
     "text": [
      "잘못된 점수\n"
     ]
    }
   ],
   "source": [
    "#scores = list(map(int,input('국영수과 점수 입력').split()))\n",
    "scores = [kor, eng, math, sci]\n",
    "\n",
    "if False not in [0<=s<=100 for s in scores]:  \n",
    "    if sum(scores)/len(scores) >= 80:\n",
    "        print('합격')\n",
    "    else:\n",
    "        print('불합격')\n",
    "\n",
    "else:\n",
    "    print('잘못된 점수')  "
   ]
  },
  {
   "cell_type": "code",
   "execution_count": 10,
   "metadata": {},
   "outputs": [
    {
     "output_type": "execute_result",
     "data": {
      "text/plain": [
       "[True, False, True, True]"
      ]
     },
     "metadata": {},
     "execution_count": 10
    }
   ],
   "source": [
    "[0<=s<=100 for s in scores]"
   ]
  },
  {
   "cell_type": "code",
   "execution_count": 11,
   "metadata": {},
   "outputs": [
    {
     "output_type": "execute_result",
     "data": {
      "text/plain": [
       "False"
      ]
     },
     "metadata": {},
     "execution_count": 11
    }
   ],
   "source": [
    "all([0<=s<=100 for s in scores])"
   ]
  },
  {
   "cell_type": "code",
   "execution_count": 12,
   "metadata": {},
   "outputs": [
    {
     "output_type": "execute_result",
     "data": {
      "text/plain": [
       "True"
      ]
     },
     "metadata": {},
     "execution_count": 12
    }
   ],
   "source": [
    "any([0<=s<=100 for s in scores])"
   ]
  },
  {
   "cell_type": "code",
   "execution_count": 13,
   "metadata": {},
   "outputs": [
    {
     "output_type": "stream",
     "name": "stdout",
     "text": [
      "잘못된 점수\n"
     ]
    }
   ],
   "source": [
    "if all([0<=s<=100 for s in scores]):  \n",
    "    if sum(scores)/len(scores) >= 80:\n",
    "        print('합격')\n",
    "    else:\n",
    "        print('불합격')\n",
    "\n",
    "else:\n",
    "    print('잘못된 점수')  "
   ]
  },
  {
   "source": [
    "### U17. 교통카드"
   ],
   "cell_type": "markdown",
   "metadata": {}
  },
  {
   "cell_type": "code",
   "execution_count": 15,
   "metadata": {},
   "outputs": [
    {
     "output_type": "stream",
     "name": "stdout",
     "text": [
      "12150\n10800\n9450\n8100\n6750\n5400\n4050\n2700\n1350\n0\n"
     ]
    }
   ],
   "source": [
    "balance = int(input())\n",
    "\n",
    "while balance >= 1350 :\n",
    "    balance -= 1350\n",
    "    print(balance)"
   ]
  },
  {
   "cell_type": "code",
   "execution_count": 16,
   "metadata": {},
   "outputs": [],
   "source": [
    "class Tmoney():\n",
    "    def __init__(self):\n",
    "        print('Tmoney 카드를 개설하였습니다. 최초 잔액은 0원입니다.')\n",
    "        self.balance = 0\n",
    "    \n",
    "    def charge(self, amount):\n",
    "        self.balance += amount\n",
    "    \n",
    "    def pay(self, amount):\n",
    "        if self.balance >= amount:\n",
    "            self.balance -= amount\n",
    "            print(f'잔액은 {self.balance:,}원 입니다.')\n",
    "        else:\n",
    "            print('잔액이 부족합니다.')    "
   ]
  },
  {
   "cell_type": "code",
   "execution_count": 17,
   "metadata": {},
   "outputs": [
    {
     "output_type": "stream",
     "name": "stdout",
     "text": [
      "Tmoney 카드를 개설하였습니다. 최초 잔액은 0원입니다.\n잔액은 8,650원 입니다.\n잔액은 7,300원 입니다.\n잔액은 5,950원 입니다.\n잔액은 4,600원 입니다.\n잔액은 3,250원 입니다.\n잔액은 1,900원 입니다.\n잔액은 550원 입니다.\n"
     ]
    }
   ],
   "source": [
    "tmon = Tmoney()\n",
    "tmon.charge(10000)\n",
    "while True:\n",
    "    tmon.pay(1350)\n",
    "    if tmon.balance < 1350:\n",
    "        break"
   ]
  },
  {
   "cell_type": "code",
   "execution_count": 20,
   "metadata": {},
   "outputs": [],
   "source": [
    "class Tmoney2():\n",
    "    def __init__(self, amount=0):\n",
    "        print(f'Tmoney 카드를 개설하였습니다. 최초 잔액은 {amount:,}원입니다.')\n",
    "        self.__balance = amount\n",
    "    \n",
    "    def charge(self, amount):\n",
    "        self.__balance += amount\n",
    "\n",
    "    def get_balance(self):\n",
    "        return self.__balance\n",
    "    \n",
    "    def pay(self, amount):\n",
    "        if self.__balance >= amount:\n",
    "            self.__balance -= amount\n",
    "            print(f'잔액은 {self.__balance:,}원 입니다.')\n",
    "        else:\n",
    "            print('잔액이 부족합니다.') "
   ]
  },
  {
   "cell_type": "code",
   "execution_count": 21,
   "metadata": {},
   "outputs": [
    {
     "output_type": "stream",
     "name": "stdout",
     "text": [
      "Tmoney 카드를 개설하였습니다. 최초 잔액은 10,000원입니다.\n잔액은 18,650원 입니다.\n잔액은 17,300원 입니다.\n잔액은 15,950원 입니다.\n잔액은 14,600원 입니다.\n잔액은 13,250원 입니다.\n잔액은 11,900원 입니다.\n잔액은 10,550원 입니다.\n잔액은 9,200원 입니다.\n잔액은 7,850원 입니다.\n잔액은 6,500원 입니다.\n잔액은 5,150원 입니다.\n잔액은 3,800원 입니다.\n잔액은 2,450원 입니다.\n잔액은 1,100원 입니다.\n"
     ]
    }
   ],
   "source": [
    "tmon = Tmoney2(10000)\n",
    "tmon.charge(10000)\n",
    "while True:\n",
    "    tmon.pay(1350)\n",
    "    if tmon.get_balance() < 1350:\n",
    "        break"
   ]
  },
  {
   "cell_type": "code",
   "execution_count": null,
   "metadata": {},
   "outputs": [],
   "source": []
  }
 ]
}